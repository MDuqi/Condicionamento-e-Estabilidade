{
 "cells": [
  {
   "cell_type": "code",
   "execution_count": 6,
   "id": "e75cbcf5",
   "metadata": {},
   "outputs": [],
   "source": [
    "using LinearAlgebra\n",
    "using Random\n",
    "using Statistics\n",
    "using Plots"
   ]
  },
  {
   "cell_type": "code",
   "execution_count": null,
   "id": "793b6684",
   "metadata": {},
   "outputs": [],
   "source": [
    "# Função QR via decomposição de Householder nativa do Julia\n",
    "function qr_(A)\n",
    "    F = qr(A)\n",
    "\n",
    "    Q = Matrix(F.Q)   # matriz Q construída com Householder\n",
    "    R = F.R           # matriz triangular superior\n",
    "    return Q, R\n",
    "end\n",
    "\n"
   ]
  },
  {
   "cell_type": "code",
   "execution_count": null,
   "id": "11ca8983",
   "metadata": {},
   "outputs": [],
   "source": [
    "# Função QR via Gram-Schmidt clássico\n",
    "function gram_schmidt_qr(A)\n",
    "    m, n = size(A)\n",
    "    Q = zeros(Float64, m, n)\n",
    "    R = zeros(Float64, n, n)\n",
    "\n",
    "    for j in 1:n\n",
    "        v = A[:, j]\n",
    "        for i in 1:j-1\n",
    "            R[i, j] = Q[:, i]' * A[:, j]\n",
    "            v -= R[i, j] * Q[:, i]\n",
    "        end\n",
    "        R[j, j] = norm(v)\n",
    "        Q[:, j] = v / R[j, j]\n",
    "    end\n",
    "    return Q, R\n",
    "end"
   ]
  },
  {
   "cell_type": "code",
   "execution_count": null,
   "id": "db5754d5",
   "metadata": {},
   "outputs": [],
   "source": [
    "# Função QR via Householder artesanal, seguindo o algoritmo clássico que pode ser aplicado na mão\n",
    "function householder_qr(A)\n",
    "    m, n = size(A)\n",
    "    R = copy(A)  # R vai ser transformada em matriz triangular superior\n",
    "    Q = Matrix{Float64}(I, m, m)  # Começa como identidade, vai acumulando as reflexões\n",
    "\n",
    "    for k = 1:min(m - 1, n)\n",
    "        # 1. Extraímos o vetor da coluna atual a partir da linha k\n",
    "        x = R[k:end, k]\n",
    "\n",
    "        # 2. Criamos o vetor v da reflexão de Householder\n",
    "        e1 = zeros(length(x))\n",
    "        e1[1] = 1.0\n",
    "        v = x + sign(x[1]) * norm(x) * e1\n",
    "        v /= norm(v)\n",
    "\n",
    "        # 3. Construímos a matriz de reflexão Hk (compacta)\n",
    "        Hk = Matrix{Float64}(I, m, m)\n",
    "        Hk[k:end, k:end] .-= 2 * (v * v')   # Atualiza só a submatriz\n",
    "\n",
    "        # 4. Aplica Hk a R (Hk * R)\n",
    "        R = Hk * R\n",
    "\n",
    "        # 5. Acumula a transformação em Q\n",
    "        Q = Q * Hk\n",
    "    end\n",
    "\n",
    "    return Q, R\n",
    "end\n"
   ]
  },
  {
   "cell_type": "code",
   "execution_count": null,
   "id": "649c3ebe",
   "metadata": {},
   "outputs": [],
   "source": [
    "# Função que executa uma das três versões de QR e imprime os resultados dos erros\n",
    "function Print_resultados(A, Q, R)\n",
    "    m, n = size(A)\n",
    "    \n",
    "    println(\"Matriz Q:\", Q)\n",
    "    println(\"Matriz R:\", R)\n",
    "\n",
    "    # Erro relativo da decomposição (QR ≈ A)\n",
    "    erro_qr = norm(Q * R - A) / norm(A)\n",
    "\n",
    "    # Verificação de ortogonalidade (QᵗQ ≈ I)\n",
    "    erro_ortogonalidade = norm(Matrix(I, m, m) - Q' * Q)\n",
    "\n",
    "    # Verificação de triangularidade superior de R (parte inferior ≈ 0)\n",
    "    R_lower = tril(R, -1)  # Pega a parte estritamente inferior\n",
    "    erro_triangularidade = norm(R_lower) / norm(R)  # Erro relativo\n",
    "\n",
    "    # Erro de máquina\n",
    "    ϵ = eps(Float64)\n",
    "\n",
    "    # Resultados\n",
    "    println(\"Erro relativo QR ≈ A:\", erro_qr)\n",
    "    println(\"Erro de ortogonalidade QᵗQ ≈ I:\", erro_ortogonalidade)\n",
    "    println(\"Erro de triangularidade R:\", erro_triangularidade)\n",
    "    println(\"Erro da máquina: \", ϵ)\n",
    "\n",
    "    println(\"\\nQR é preciso? \", erro_qr < ϵ * 100)\n",
    "    println(\"Q é ortogonal? \", erro_ortogonalidade < ϵ * 100)\n",
    "    println(\"R é triangular superior? \", erro_triangularidade < ϵ * 100)\n",
    "    println(\"\\n======================================== \\n\")\n",
    "end"
   ]
  },
  {
   "cell_type": "code",
   "execution_count": null,
   "id": "9e40ad63",
   "metadata": {},
   "outputs": [],
   "source": [
    "# Aplicar QR pela função do pacote LinearAlgebra\n",
    "A=rand(3, 3) # matriz aleatória 3x3\n",
    "Q, R = qr_(A)\n",
    "Print_resultados(A,Q,R)\n",
    "\n",
    "# Aplicar QR via Gram-Schmidt\n",
    "Qg, Rg = gram_schmidt_qr(A)\n",
    "Print_resultados(A,Qg,Rg)\n",
    "\n",
    "# QR Decomposition using Householder reflections\n",
    "Qh, Rh = householder_qr(A)\n",
    "Print_resultados(A,Qh,Rh)"
   ]
  },
  {
   "cell_type": "code",
   "execution_count": null,
   "id": "f3c1ecce",
   "metadata": {},
   "outputs": [],
   "source": [
    "# Função para gerar uma matriz de tamanho m x m com número de condição desejado usando SVD\n",
    "function generate_any_conditioned_matrix(m, desired_condition_number)\n",
    "    # Gera duas matrizes ortogonais U e V a partir de QR de matrizes aleatórias\n",
    "    U, _ = qr(randn(m, m))\n",
    "    V, _ = qr(randn(m, m))\n",
    "\n",
    "    # Cria os valores singulares de forma decrescente, de 1 até 1/desired_condition_number\n",
    "    # Usamos uma escala logarítmica para distribuir os valores singulares\n",
    "    singular_values = exp.(range(0, -log(desired_condition_number), length=m))\n",
    "    D = Diagonal(singular_values)\n",
    "\n",
    "    # Monta a matriz mal condicionada: A = U * D * Vᵀ \n",
    "    A = U * D * V'\n",
    "\n",
    "    return A\n",
    "end\n",
    "\n",
    "# Função para testar sensibilidade\n",
    "function plot_sensitivity(cond_good, cond_bad; N=50)\n",
    "    n = 10\n",
    "    A_good = generate_any_conditioned_matrix(n, cond_good)\n",
    "    A_bad = generate_any_conditioned_matrix(n, cond_bad)\n",
    "\n",
    "    x_real = ones(n)\n",
    "    b_good = A_good * x_real\n",
    "    b_bad = A_bad * x_real\n",
    "\n",
    "    epsilons = range(1e-10, 0.10, length=100)\n",
    "    errors_good = Float64[]\n",
    "    errors_bad = Float64[]\n",
    "\n",
    "    for eps in epsilons\n",
    "        temp_errors_good = []\n",
    "        temp_errors_bad = []\n",
    "\n",
    "        for _ in 1:N\n",
    "            δb = eps * randn(n)\n",
    "\n",
    "            x_good = A_good \\ (b_good + δb)\n",
    "            x_bad = A_bad \\ (b_bad + δb)\n",
    "\n",
    "            push!(temp_errors_good, norm(x_good - x_real) / norm(x_real))\n",
    "            push!(temp_errors_bad, norm(x_bad - x_real) / norm(x_real))\n",
    "        end\n",
    "\n",
    "        push!(errors_good, mean(temp_errors_good))\n",
    "        push!(errors_bad, mean(temp_errors_bad))\n",
    "    end\n",
    "\n",
    "    plot(epsilons, errors_good, label=\"Bem Condicionado\", lw=2, color=:blue, yscale=:log10)\n",
    "    plot!(epsilons, errors_bad, label=\"Mal Condicionado\", lw=2, ls=:dash, color=:red)\n",
    "\n",
    "    xlabel!(\"Magnitude da Perturbação na Entrada (ε)\")\n",
    "    ylabel!(\"Erro na Saída (Δx)\")\n",
    "    title!(\"Sensibilidade a Perturbações na Entrada\")\n",
    "end\n",
    "\n",
    "\n"
   ]
  },
  {
   "cell_type": "code",
   "execution_count": null,
   "id": "5bbc3ab1",
   "metadata": {},
   "outputs": [],
   "source": [
    "# Testando a função de plotagem com uma matriz 7x7 e número de condição 1 ate 10^10\n",
    "for k in 10 .^(0:10) \n",
    "    A = generate_any_conditioned_matrix(7, k)\n",
    "    println(\"Número condicional: \", cond(A))\n",
    "end    \n",
    "    \n"
   ]
  },
  {
   "cell_type": "code",
   "execution_count": null,
   "id": "8a604c68",
   "metadata": {},
   "outputs": [],
   "source": [
    "# Gerar o gráfico\n",
    "plot_sensitivity(10, 1e5)"
   ]
  },
  {
   "cell_type": "code",
   "execution_count": null,
   "id": "287f4d5c",
   "metadata": {},
   "outputs": [],
   "source": [
    "# Função para registrar erros de QR em vetores globais (Print_resultados em larga escala)\n",
    "function registrar_erros_qr(A, Q, R, id_alg, c)\n",
    "    m, n = size(A)\n",
    "\n",
    "    # Erro relativo da decomposição (QR ≈ A)\n",
    "    erro_qr = norm(Q * R - A) / norm(A)\n",
    "\n",
    "    # Verificação de ortogonalidade (QᵗQ ≈ I)\n",
    "    erro_ortogonalidade = norm(Matrix(I, m, m) - Q' * Q)\n",
    "\n",
    "    # Verificação de triangularidade superior de R (parte inferior ≈ 0)\n",
    "    R_lower = tril(R, -1)  # Pega a parte estritamente inferior\n",
    "    erro_triangularidade = norm(R_lower) / norm(R)  # Erro relativo\n",
    "\n",
    "    # Erro de máquina\n",
    "    ϵ = eps(Float64)\n",
    "\n",
    "    # Atualiza vetores globais\n",
    "    global qr_errors[id_alg] += erro_qr > ϵ * c\n",
    "    global q_ortho_errors[id_alg] += erro_ortogonalidade > ϵ * c\n",
    "    global r_triang_errors[id_alg] += erro_triangularidade > ϵ * c\n",
    "end\n",
    "\n",
    "\n",
    "# Função para plotar os erros das 3 implementacões de QR simulando N execuções com uma matriz de condição específica \n",
    "function plot_error(N, m, k, c)\n",
    "    # Vetores globais de contagem\n",
    "    global qr_errors = [0, 0, 0]\n",
    "    global q_ortho_errors = [0, 0, 0]\n",
    "    global r_triang_errors = [0, 0, 0] \n",
    "\n",
    "    # Loop de N execuções para cada método\n",
    "    for i in 1:N\n",
    "        A = generate_any_conditioned_matrix(m, k)\n",
    "\n",
    "        # Método 1: QR de Julia (Householder interno)\n",
    "        Q1, R1 = qr_(A)\n",
    "        registrar_erros_qr(A, Q1, R1, 1, c)\n",
    "\n",
    "        # Método 2: Gram-Schmidt\n",
    "        Q2, R2 = gram_schmidt_qr(A)\n",
    "        registrar_erros_qr(A, Q2, R2, 2, c)\n",
    "\n",
    "        # Método 3: Householder implementado manualmente\n",
    "        Q3, R3 = householder_qr(A)\n",
    "        registrar_erros_qr(A, Q3, R3, 3, c)\n",
    "    end\n",
    "\n",
    "    # Função para formatar a saída com contagem e porcentagem\n",
    "    function format_error(count)\n",
    "        percentage = round(count / N * 100, digits=2)\n",
    "        return \"$count ($percentage%)\"\n",
    "    end\n",
    "\n",
    "    # Exibe os resultados após as execuções\n",
    "    println(\"Erros QR (decomposição ≠ A) em $N execuções:\")\n",
    "    println(\"QR padrão:        \", format_error(qr_errors[1]))\n",
    "    println(\"Gram-Schmidt:     \", format_error(qr_errors[2]))\n",
    "    println(\"Householder:      \", format_error(qr_errors[3]))\n",
    "\n",
    "    println(\"\\nErros de ortogonalidade (QᵗQ ≠ I) em $N execuções:\")\n",
    "    println(\"QR padrão:        \", format_error(q_ortho_errors[1]))\n",
    "    println(\"Gram-Schmidt:     \", format_error(q_ortho_errors[2]))\n",
    "    println(\"Householder:      \", format_error(q_ortho_errors[3]))\n",
    "\n",
    "    println(\"Erros de triangularidade (R não é triangular) em $N execuções:\")\n",
    "    println(\"QR padrão:        \", format_error(r_triang_errors[1]))\n",
    "    println(\"Gram-Schmidt:     \", format_error(r_triang_errors[2]))\n",
    "    println(\"Householder:      \", format_error(r_triang_errors[3]))\n",
    "\n",
    "    # Plotando os gráficos dos erros\n",
    "\n",
    "    # Erros de decomposição (QR ≠ A)\n",
    "    bar1 = bar([qr_errors[1], qr_errors[2], qr_errors[3]], label=[\"QR padrão\", \"Gram-Schmidt\", \"Householder\"], title=\"Erros QR (decomposição ≠ A)\", ylabel=\"Erro\", xlabel=\"Métodos\")\n",
    "\n",
    "    # Erros de ortogonalidade (QᵗQ ≠ I)\n",
    "    bar2 = bar([q_ortho_errors[1], q_ortho_errors[2], q_ortho_errors[3]], label=[\"QR padrão\", \"Gram-Schmidt\", \"Householder\"], title=\"Erros de Ortogonalidade (QᵗQ ≠ I)\", ylabel=\"Erro\", xlabel=\"Métodos\")\n",
    "\n",
    "    # Erros de triangularidade (R não é triangular)\n",
    "    bar3 = bar([r_triang_errors[1], r_triang_errors[2], r_triang_errors[3]], label=[\"QR padrão\", \"Gram-Schmidt\", \"Householder\"], title=\"Erros de Triangularidade (R não é triangular)\", ylabel=\"Erro\", xlabel=\"Métodos\")\n",
    "\n",
    "    # Exibe os gráficos\n",
    "    plot(bar1, bar2, bar3, layout=(3, 1), size=(1200, 900))\n",
    "end"
   ]
  },
  {
   "cell_type": "code",
   "execution_count": null,
   "id": "ea65be8d",
   "metadata": {},
   "outputs": [],
   "source": [
    "# Executando a função de plotagem com 100000 execuções, matriz 3x3 e número de condição 100(bem condicionada)\n",
    "plot_error(100000, 3, 100, 100)"
   ]
  },
  {
   "cell_type": "code",
   "execution_count": null,
   "id": "e905e441",
   "metadata": {},
   "outputs": [],
   "source": [
    "plot_error(100000, 5, 100, 100)\n"
   ]
  },
  {
   "cell_type": "code",
   "execution_count": null,
   "id": "6580e52c",
   "metadata": {},
   "outputs": [],
   "source": [
    "# Função para analisar o erro de ortogonalidade em diferentes dimensões\n",
    "function analyze_orthogonality_error(N, max_dim, k, c)\n",
    "    dims = 2:max_dim\n",
    "    n = length(dims)\n",
    "\n",
    "    errors_qr = zeros(n)\n",
    "    errors_gs = zeros(n)\n",
    "    errors_hh = zeros(n)\n",
    "    \n",
    "    for (i, d) in enumerate(dims)\n",
    "        global q_ortho_errors = [0, 0, 0]\n",
    "        \n",
    "        plot_error(N, d, k, c)\n",
    "        \n",
    "        errors_qr[i] = q_ortho_errors[1] / N * 100\n",
    "        errors_gs[i] = q_ortho_errors[2] / N * 100\n",
    "        errors_hh[i] = q_ortho_errors[3] / N * 100\n",
    "        \n",
    "        println(\"Dimensão $d concluída\")\n",
    "    end\n",
    "    \n",
    "    p = plot(dims, hcat(errors_qr, errors_gs, errors_hh), \n",
    "             label=[\"QR Padrão\" \"Gram-Schmidt\" \"Householder\"],\n",
    "             xlabel=\"Dimensão da Matriz\", \n",
    "             ylabel=\"Porcentagem de Erro de Ortogonalidade (%)\",\n",
    "             title=\"Evolução do Erro de Ortogonalidade por Dimensão\\ncom c = $(c) e cond(A) = $(k)\",\n",
    "             linewidth=2,\n",
    "             markershape=:circle,\n",
    "             markersize=4,\n",
    "             legend=:topleft)\n",
    "    \n",
    "    display(p)\n",
    "end\n",
    "\n"
   ]
  },
  {
   "cell_type": "markdown",
   "id": "0d855053",
   "metadata": {},
   "source": [
    "## Sobre o parâmetro c\n",
    "\n",
    "O parâmetro c funciona como um fator de tolerância para determinar se um erro numérico é significativo ou não. Em vez de comparar diretamente os erros com o erro de máquina (ϵ), usamos c * ϵ como limite. Isso permite controlar a sensibilidade da detecção de erros: valores pequenos de c tornam o critério mais rigoroso (detecta até erros muito pequenos), enquanto valores maiores de c tornam o critério mais permissivo, considerando aceitáveis erros maiores. Na prática, esse fator é necessário porque, em cálculos numéricos com várias operações acumuladas (como nas decomposições QR), o erro total pode ser naturalmente algumas dezenas ou centenas de vezes maior que o ϵ da máquina, sem que isso represente um problema real de estabilidade."
   ]
  },
  {
   "cell_type": "code",
   "execution_count": null,
   "id": "6e075d79",
   "metadata": {},
   "outputs": [],
   "source": [
    "#testando a função de análise de erro de ortogonalidade com matrizes muito bem condicionadas e c = 10 para evidenciar os erros\n",
    "analyze_orthogonality_error(100000, 20, 10, 10)"
   ]
  },
  {
   "cell_type": "markdown",
   "id": "19ecfae2",
   "metadata": {},
   "source": [
    "A partir daqui adotamos o valor padrão 100 * ϵ porque, na prática, os erros de arredondamento que surgem em algoritmos numéricos não se acumulam de forma isolada, mas sim ao longo de múltiplas operações (somas, multiplicações, transformações, etc.). Cada operação introduz um erro proporcional ao ϵ da máquina, e quando o algoritmo envolve dezenas ou centenas de operações (como na decomposição QR), é comum que o erro total se aproxime de 10 a 100 vezes o erro de máquina.\n",
    "\n",
    "O valor 100 * ϵ é um compromisso que não é tão rigoroso a ponto de acusar falsamente erros naturais da aritmética de ponto flutuante, e não é tão liberal a ponto de ignorar erros realmente significativos que indiquem perda de estabilidade ou precisão.\n",
    "\n",
    "Se adotássemos apenas ϵ como limiar, quase todo algoritmo que faça mais do que pouquíssimas operações já pareceria \"impreciso\" — o que seria uma falsa avaliação da estabilidade."
   ]
  },
  {
   "cell_type": "code",
   "execution_count": null,
   "id": "32283ef5",
   "metadata": {},
   "outputs": [],
   "source": [
    "#testando a função de análise de erro de ortogonalidade com matrizes bem condicionadas e c ajustado para 100\n",
    "analyze_orthogonality_error(100000, 20, 1e1, 100)"
   ]
  },
  {
   "cell_type": "markdown",
   "id": "cae6e9f0",
   "metadata": {},
   "source": [
    "Neste primeiro teste com matrizes muito bem condicionadas (k=10), percebemos que o erro de ortogonalidade permanece \"nulo\" para todos os algoritimos em todas dimensões"
   ]
  },
  {
   "cell_type": "code",
   "execution_count": null,
   "id": "76e4e66b",
   "metadata": {},
   "outputs": [],
   "source": [
    "#testando a função de análise de erro de ortogonalidade com matrizes menos bem condicionadas \n",
    "analyze_orthogonality_error(100000, 20, 1e2, 100)"
   ]
  },
  {
   "cell_type": "markdown",
   "id": "09f016ba",
   "metadata": {},
   "source": [
    "Neste segundo teste com matrizes bem condicionadas (k=100), percebemos que o erro de ortogonalidade permanece \"nulo\" apenas para os householders em todas dimensões, e é gradualmente crescente para o gram-Schmidt, que não é estável."
   ]
  },
  {
   "cell_type": "code",
   "execution_count": null,
   "id": "4d5f0ec0",
   "metadata": {},
   "outputs": [],
   "source": [
    "#testando a função de análise de erro de ortogonalidade com matrizes mau condicionadas \n",
    "analyze_orthogonality_error(100000, 20, 1e3, 100)"
   ]
  },
  {
   "cell_type": "markdown",
   "id": "692045ec",
   "metadata": {},
   "source": [
    "Neste teste com matrizes mal condicionadas (k=1000), percebemos resultado semelhante ao anterior, com um agravante no erro do Gram-Schmidt, que se estaguina perto do 100% muito mais cedo, já tendo um erro elevado mesmo em dimensões menores."
   ]
  },
  {
   "cell_type": "code",
   "execution_count": null,
   "id": "91d1b80d",
   "metadata": {},
   "outputs": [],
   "source": [
    "#testando a função de análise de erro de ortogonalidade com matrizes péssimamente condicionadas\n",
    "analyze_orthogonality_error(100000, 20, 1e9, 100)"
   ]
  },
  {
   "cell_type": "markdown",
   "id": "34182d88",
   "metadata": {},
   "source": [
    "Neste último teste com matrizes péssimamente condicionadas (k=10^9), temos o resultado com mais destaque da diferença ente um algoritimo não estável e um backward stable. Gram-Schmidt desde a dimensão 2 ja apresenta praticamente 100% de erro nas 100000 execuções. E mesmo com matrizes tão mau condicionadas, os householders (nativo do julia e o implementado por nós), continuam mostrando erro mínimo. \n",
    "\n",
    "Assim confirmando a potência da estabilidade do householder."
   ]
  }
 ],
 "metadata": {
  "kernelspec": {
   "display_name": "Julia 1.10.2",
   "language": "julia",
   "name": "julia-1.10"
  },
  "language_info": {
   "file_extension": ".jl",
   "mimetype": "application/julia",
   "name": "julia",
   "version": "1.10.2"
  }
 },
 "nbformat": 4,
 "nbformat_minor": 5
}
